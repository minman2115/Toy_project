{
 "cells": [
  {
   "cell_type": "markdown",
   "metadata": {
    "slideshow": {
     "slide_type": "slide"
    }
   },
   "source": [
    "##  텍스트 데이터 토픽 분류 서비스를 제공하는 웹서버 구현결과\n",
    "\n",
    "> 특정 텍스트를 입력받아 정치, 경제, 과학/기술 등의 토픽으로 예측하여 결과값을 리턴하는 나이브베이즈 모델 서빙 웹서버 구현\n",
    "\n",
    "### 1. 개요\n",
    "\n",
    "#### 1.1. 기술스텍\n",
    "\n",
    "1) 텍스트 처리(TFIDF)\n",
    "\n",
    "2) 나이브 베이즈 모델\n",
    "\n",
    "3) Flask\n",
    "\n",
    "4) Nginx\n",
    "\n",
    "5) html, css\n",
    "\n",
    "6) AWS EC2\n",
    "\n",
    "7) highcharts\n",
    "\n",
    "#### 1.2.  프로젝트 구현 아키텍처"
   ]
  },
  {
   "cell_type": "markdown",
   "metadata": {
    "slideshow": {
     "slide_type": "slide"
    }
   },
   "source": [
    "<img src=\"0.png\" width=\"1000\" />"
   ]
  },
  {
   "cell_type": "markdown",
   "metadata": {},
   "source": [
    "### 2. 웹서버 구동방법\n",
    "\n",
    "#### step 1) 사전에 수집한 텍스트 데이터(naver_article.plk)를 이용하여 TF-IDF기법을 적용한 나이브베이즈 모형(classification_model.pkl)구현\n",
    "\n",
    "- 수집한 텍스트 데이터(naver_article.plk) 내용\n",
    "\n",
    "x_value = article_df['content'] / 아래그림 빨간박스\n",
    "\n",
    "y_value = article_df['category'] / 아래그림 파란박스"
   ]
  },
  {
   "cell_type": "markdown",
   "metadata": {},
   "source": [
    "<img src=\"0-1.png\" width=\"1000\" />"
   ]
  },
  {
   "cell_type": "markdown",
   "metadata": {},
   "source": [
    "- 모델링 관련 상세내용 make_model.py 참고\n",
    "\n",
    "#### step 2) flask를 이용한 웹어플리케이션 구현 \n",
    "\n",
    "상세내용 flask_app.py, index.html 참고\n",
    "\n",
    "#### step 3) flask_app.py, classification_model.pkl, index.html 등 AWS EC2 탑재\n",
    "\n",
    "#### step 4) Nginx 초기 설정 및 flask 어플리케이션 실행\n",
    "\n",
    "1) sudo vi /etc/nginx/sites-available/default 명령어로 default 파일 실행\n",
    "\n",
    "2) default 내용에서 아래의 코드의 80을 9999로 수정\n",
    "\n",
    "listen 80 default_server;\n",
    "\n",
    "listen [::]:80 default_server;\n",
    "\n",
    "3) default 내용 최하단에 다음과 같이 코드를 추가\n",
    "\n",
    "`\n",
    "server {\n",
    "    listen 80;\n",
    "    location / {\n",
    "        proxy_pass http://localhost:5000;\n",
    "    }\n",
    "}\n",
    "`\n",
    "\n",
    "4) 저장 및 파일 수정종료\n",
    "\n",
    "5) sudo systemctl restart nginx 명령어로 Nginx 재시작 및 설정파일 적용\n",
    "\n",
    "6) python flask_app.py 명령어로 flask 어플리케이션 실행\n",
    "\n",
    "7) 클라이언트 browser에 `http://<public_ip>/`로 접속\n",
    "\n",
    "### 3. 웹서버 구동결과\n",
    "\n",
    "1) 클라이언트 browser에 `http://<public_ip>/`로 접속시 최초화면"
   ]
  },
  {
   "cell_type": "markdown",
   "metadata": {},
   "source": [
    "<img src=\"0-2.png\" width=\"1000\" />"
   ]
  },
  {
   "cell_type": "markdown",
   "metadata": {},
   "source": [
    "2) 검색창에 '올바른 머신러닝 모델 구현을 위해 데이터 전처리를 잘 해줘야 한다.' 문장 입력 후 prediction 클릭 시 결과"
   ]
  },
  {
   "cell_type": "markdown",
   "metadata": {},
   "source": [
    "<img src=\"1.png\" width=\"1000\" />"
   ]
  },
  {
   "cell_type": "markdown",
   "metadata": {},
   "source": [
    "3) 브라우저 검색창에 `http://<public_ip>/predic?sentence=data` 검색 시 결과\n",
    "\n",
    "=> json 형태로 모델 prediction값 return"
   ]
  },
  {
   "cell_type": "markdown",
   "metadata": {},
   "source": [
    "<img src=\"3.png\" width=\"1000\" />"
   ]
  },
  {
   "cell_type": "markdown",
   "metadata": {},
   "source": [
    "4) 리눅스 콘솔 상 flask 실행화면"
   ]
  },
  {
   "cell_type": "markdown",
   "metadata": {},
   "source": [
    "<img src=\"2.png\" width=\"1000\" />"
   ]
  }
 ],
 "metadata": {
  "kernelspec": {
   "display_name": "Python 3",
   "language": "python",
   "name": "python3"
  },
  "language_info": {
   "codemirror_mode": {
    "name": "ipython",
    "version": 3
   },
   "file_extension": ".py",
   "mimetype": "text/x-python",
   "name": "python",
   "nbconvert_exporter": "python",
   "pygments_lexer": "ipython3",
   "version": "3.7.3"
  }
 },
 "nbformat": 4,
 "nbformat_minor": 2
}
