{
 "cells": [
  {
   "cell_type": "markdown",
   "metadata": {
    "slideshow": {
     "slide_type": "slide"
    }
   },
   "source": [
    "##  스케쥴러를 이용한 네이버 실시간 검색어 순위 데이터수집 AWS 서버 구현결과\n",
    "\n",
    "> 네이버 실시간 검색어 순위 데이터를 스케쥴러(크론탭)를 이용하여 정기적으로 웹크롤링, DB 저장, slack 알림을 수행하는 AWS EC2 서버구축\n",
    "\n",
    "### 1. 개요\n",
    "\n",
    "#### 1.1. 기술스텍\n",
    "\n",
    "1) SQL활용\n",
    "\n",
    "2) crontab\n",
    "\n",
    "3) 리눅스\n",
    "\n",
    "4) AWS EC2\n",
    "\n",
    "5) python 프로그래밍\n",
    "\n",
    "6) slack webhooks\n",
    "\n",
    "#### 1.2.  프로젝트 구현 아키텍처"
   ]
  },
  {
   "cell_type": "markdown",
   "metadata": {
    "slideshow": {
     "slide_type": "slide"
    }
   },
   "source": [
    "<img src=\"0.png\" width=\"1000\" />"
   ]
  },
  {
   "cell_type": "markdown",
   "metadata": {},
   "source": [
    "### 2. 시스템 구동방법\n",
    "\n",
    "주요 시스템 구동 관련 내용은 keywords.py 참고\n",
    "\n",
    "step 1) 아래와 같이 EC2 리눅스에서 환경변수 설정"
   ]
  },
  {
   "cell_type": "markdown",
   "metadata": {},
   "source": [
    "<img src=\"0-1.png\" width=\"1000\" />"
   ]
  },
  {
   "cell_type": "markdown",
   "metadata": {},
   "source": [
    "step 2) 아래와 같이 네이버 실시간 검색어 순위 데이터 저장을 위한 SQL 데이터베이스 및 테이블 생성"
   ]
  },
  {
   "cell_type": "markdown",
   "metadata": {},
   "source": [
    "<img src=\"1.png\" width=\"1000\" />"
   ]
  },
  {
   "cell_type": "markdown",
   "metadata": {},
   "source": [
    "step 3) 크론탭 설정 및 실행\n",
    "\n",
    "1) 아래와 같이 타임존 한국시간으로 설정"
   ]
  },
  {
   "cell_type": "markdown",
   "metadata": {},
   "source": [
    "<img src=\"1-1.png\" width=\"1000\" />"
   ]
  },
  {
   "cell_type": "markdown",
   "metadata": {},
   "source": [
    "2) 크론탭 스케쥴러 설정 (crontab -e)\n",
    "\n",
    "=> 설정완료 시 매 2분 간격으로 keywords.py 실행"
   ]
  },
  {
   "cell_type": "markdown",
   "metadata": {},
   "source": [
    "<img src=\"1-2.png\" width=\"1000\" />"
   ]
  },
  {
   "cell_type": "markdown",
   "metadata": {},
   "source": [
    "- 위와 같이 설정 후 저장 시 결과"
   ]
  },
  {
   "cell_type": "markdown",
   "metadata": {},
   "source": [
    "<img src=\"1-3.png\" width=\"1000\" />"
   ]
  },
  {
   "cell_type": "markdown",
   "metadata": {},
   "source": [
    "### 3. 시스템 구동결과\n",
    "\n",
    "#### 1) slack"
   ]
  },
  {
   "cell_type": "markdown",
   "metadata": {},
   "source": [
    "<img src=\"4.jpg\" width=\"1000\" />"
   ]
  },
  {
   "cell_type": "markdown",
   "metadata": {},
   "source": [
    "#### 2) mysql"
   ]
  },
  {
   "cell_type": "markdown",
   "metadata": {},
   "source": [
    "<img src=\"2.png\" width=\"700\" />"
   ]
  },
  {
   "cell_type": "markdown",
   "metadata": {},
   "source": [
    "#### 3) nosql"
   ]
  },
  {
   "cell_type": "markdown",
   "metadata": {},
   "source": [
    "<img src=\"3.png\" width=\"1000\" />"
   ]
  }
 ],
 "metadata": {
  "kernelspec": {
   "display_name": "Python 3",
   "language": "python",
   "name": "python3"
  },
  "language_info": {
   "codemirror_mode": {
    "name": "ipython",
    "version": 3
   },
   "file_extension": ".py",
   "mimetype": "text/x-python",
   "name": "python",
   "nbconvert_exporter": "python",
   "pygments_lexer": "ipython3",
   "version": "3.7.3"
  }
 },
 "nbformat": 4,
 "nbformat_minor": 2
}
